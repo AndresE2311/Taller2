{
  "nbformat": 4,
  "nbformat_minor": 0,
  "metadata": {
    "colab": {
      "provenance": []
    },
    "kernelspec": {
      "name": "python3",
      "display_name": "Python 3"
    },
    "language_info": {
      "name": "python"
    }
  },
  "cells": [
    {
      "cell_type": "markdown",
      "source": [
        "# Taller 2\n",
        "\n",
        "Andrés Estupiñán Moncada \n",
        "\n",
        "Brayan Andrés Castellanos Pinilla "
      ],
      "metadata": {
        "id": "VXbaNu4T3QDo"
      }
    },
    {
      "cell_type": "markdown",
      "source": [
        "Primero, cargamos las librerias que más usamos "
      ],
      "metadata": {
        "id": "ySoOJFa1GqGA"
      }
    },
    {
      "cell_type": "code",
      "source": [
        "import numpy as np\n",
        "import pandas as pd\n",
        "import matplotlib.pyplot as plt\n",
        "from scipy.optimize import minimize\n",
        "from scipy.optimize import linprog\n",
        "import warnings"
      ],
      "metadata": {
        "id": "6kBPqb3k6loO"
      },
      "execution_count": 181,
      "outputs": []
    },
    {
      "cell_type": "markdown",
      "source": [
        "# Punto 1"
      ],
      "metadata": {
        "id": "Y8-oYxXeuiX5"
      }
    },
    {
      "cell_type": "code",
      "source": [
        "warnings.filterwarnings(\"ignore\")\n",
        "# Objetivo a maximizar \n",
        "c = np.array([3, 5])       # La ganancia por unidad de A y de B. (A  y B son los productos)\n",
        "\n",
        "# Restricciones de desigualdad\n",
        "A = np.array([  [1, 1],    # Materia prima en unidades por producto\n",
        "                [2, 4],    # Mano de  obra en unidades por producto\n",
        "                [1, 2],    # Capital en unidades por producto\n",
        "                [-1,0],    # Demanda del producto A\n",
        "                [0,-1]])   # Demanda del producto B\n",
        "b = np.array([500,1000,2000,-100,-150]) # Restricción \n",
        "\n",
        "# Solución del problema\n",
        "sol = linprog(-c, A_ub=A, b_ub=b, method='simplex') \n",
        "print(round(pd.DataFrame(sol.x),2))\n",
        "sol.fun                    # Encontramos \"fun\" que es la solución de la maximización y \"x\" que es los parametros A y B optimizados."
      ],
      "metadata": {
        "id": "sFcspa6I2MiE",
        "colab": {
          "base_uri": "https://localhost:8080/"
        },
        "outputId": "6748e607-d1bd-4dff-e689-05c66cfdbd70"
      },
      "execution_count": 201,
      "outputs": [
        {
          "output_type": "stream",
          "name": "stdout",
          "text": [
            "       0\n",
            "0  200.0\n",
            "1  150.0\n"
          ]
        },
        {
          "output_type": "execute_result",
          "data": {
            "text/plain": [
              "-1350.0"
            ]
          },
          "metadata": {},
          "execution_count": 201
        }
      ]
    },
    {
      "cell_type": "markdown",
      "source": [
        "La asignación óptima de A  es de 200 unidades y de B es de 150 unidades y las ganancias de la empresa serían $1350."
      ],
      "metadata": {
        "id": "RtK2Q1w7JE_D"
      }
    },
    {
      "cell_type": "markdown",
      "source": [
        "# Punto 2"
      ],
      "metadata": {
        "id": "5AjOMCpgGLEU"
      }
    },
    {
      "cell_type": "code",
      "source": [
        "# Objectivo a maximizar \n",
        "c2 = np.array([0.1, 0.15, 0.16, 0.08])    # Los retornos de cada fondo\n",
        "\n",
        "# Restricciones de desigualdad\n",
        "A2 = np.array([[0.5,    0.3, 0.25, 0.6],  # Valoraciones de las acciones en porcentaje\n",
        "                  [0.3, 0.1, 0.4 , 0.2],  # Tamaño de las acciones en porcentaje\n",
        "                  [0.2, 0.6, 0.35, 0.2]]) # Liquidez de las acciones en porcentaje\n",
        "b2 = np.array([35, 30, 15])               # Restricciones \n",
        "\n",
        "# Restricciones de igualdad\n",
        "A3 = np.array([[1  , 1  , 1   , 1  ]])    # Variables que identifican lo que se invierte en cada fondo\n",
        "b3 = np.array([100])                      # Capital $100 millones \n",
        "# Solución del problema\n",
        "res2 = linprog(-c2, A_ub=-A2, b_ub=-b2, A_eq=A3, b_eq=b3,method='revised simplex')\n",
        "print(round(pd.DataFrame(res2.x),2))\n",
        "round(res2.fun,2)                         # Encontramos \"fun\" que es la solución de la maximización y \"x\" que es lo que se invierte en cada fondo optimizado."
      ],
      "metadata": {
        "id": "n_kWUI3HB3iC",
        "colab": {
          "base_uri": "https://localhost:8080/"
        },
        "outputId": "d5d99ef6-d633-4775-982d-00888bb99c80"
      },
      "execution_count": 204,
      "outputs": [
        {
          "output_type": "stream",
          "name": "stdout",
          "text": [
            "       0\n",
            "0   0.00\n",
            "1  15.79\n",
            "2  57.89\n",
            "3  26.32\n"
          ]
        },
        {
          "output_type": "execute_result",
          "data": {
            "text/plain": [
              "-13.74"
            ]
          },
          "metadata": {},
          "execution_count": 204
        }
      ]
    },
    {
      "cell_type": "markdown",
      "source": [
        "Una asignación factible sería una invrsión de  0 millones en el fondo 1, 15.79 millones en el fondo 2, 57.89 millones en el fondo 3 y 26.32 millones en el fondo 4. El cual tiene un retorno esperado de 13.74 millones."
      ],
      "metadata": {
        "id": "JRLC5xPuLd4w"
      }
    },
    {
      "cell_type": "markdown",
      "source": [
        "# Punto 3"
      ],
      "metadata": {
        "id": "3ejowEQhfii6"
      }
    },
    {
      "cell_type": "code",
      "source": [
        "# Objectivo a maximizar \n",
        "c6 = np.array([0,0,0,0,0,0,0,0,0,0,0,0,0,1])                 # Maximizar el saldo del ultimo mes \n",
        "\n",
        "# Restricciones de igualdad\n",
        "A6 = np.array([[1,0,0,0,0, 1,0,0, -1,0,0,0,0,0],          \n",
        "             [-1.01,1,0,0,0, 0,1,0, 1.003,-1,0,0,0,0],\n",
        "             [0,-1.01,1,0,0, 0,0,1, 0,1.003,-1,0,0,0],\n",
        "             [0,0,-1.01,1,0, -1.02,0,0, 0,0,1.003,-1,0,0],\n",
        "             [0,0,0,-1.01,1, 0,-1.02,0, 0,0,0,1.003,-1,0],\n",
        "             [0,0,0,0,-1.01, 0,0,-1.02, 0,0,0,0,1.003,-1]])  # xj: monto dispuesto a pedir en la línea de crédito en el mes j, para j = 1,2,3,4,5., yj: monto emitido en el papel comercial en el mes j, para j = 1,2,3. y zj : saldo de fondos (FC) en el mes j, para j = 1,2,3,4,5,6.\n",
        "b6 = np.array([150, 100, -200,200,-50,-300])                 # Restricción Flujo de caja\n",
        "\n",
        "# Solución del problema\n",
        "res4 = linprog(-c6, A_eq=A6, b_eq=b6,method='revised simplex')\n",
        "print(round(pd.DataFrame(res4.x),2))                          # Encontramos \"x\" que es la desición que se toma con cada variable en cada mes."
      ],
      "metadata": {
        "colab": {
          "base_uri": "https://localhost:8080/"
        },
        "id": "FeUCyvHPfmRT",
        "outputId": "f41bb3ea-7267-4213-efd9-a8f8b4362938"
      },
      "execution_count": 205,
      "outputs": [
        {
          "output_type": "stream",
          "name": "stdout",
          "text": [
            "         0\n",
            "0     0.00\n",
            "1    50.98\n",
            "2     0.00\n",
            "3     0.00\n",
            "4     0.00\n",
            "5   150.00\n",
            "6    49.02\n",
            "7   203.43\n",
            "8     0.00\n",
            "9     0.00\n",
            "10  351.94\n",
            "11    0.00\n",
            "12    0.00\n",
            "13   92.50\n"
          ]
        },
        {
          "output_type": "execute_result",
          "data": {
            "text/plain": [
              "-92.5"
            ]
          },
          "metadata": {},
          "execution_count": 205
        }
      ]
    },
    {
      "cell_type": "markdown",
      "source": [
        "La recomendación para la empresa es: Para el priimer mes emitir bonos por 150 millones, para el segundo mes pedir un credito de 50.98 millones y emitir un bono por 49.02 millones, para el tercer mes invertir el excedente 351.94 millones y emitir un bono por 203.43 millones. Con todo lo anterior la empresa lograria para el mes 6 tener un excedente de 92.49 millones el cual es el maximo segun las restricciones.  "
      ],
      "metadata": {
        "id": "NX2oZ786X6iH"
      }
    },
    {
      "cell_type": "markdown",
      "source": [
        "# Punto 4"
      ],
      "metadata": {
        "id": "HPOBIoi42Byo"
      }
    },
    {
      "cell_type": "code",
      "source": [
        "# Parametro \n",
        "rate = (1+0.0001)**7                 # Rentabilidad neta de los recursos invertidos a corto plazo \n",
        "\n",
        "# Objectivo a maximizar \n",
        "c7 = np.array([0,0,0,1])             # Maximizar el saldo de la ultima semana   \n",
        "\n",
        "# Restricciones de desigualdad\n",
        "A7 = np.array([[-1,0,0,0],           # x: El monto que se invierte y rate es la ganancia de lo invertido en el periodo anterior \n",
        "               [rate,-1,0,0],\n",
        "               [0,rate,-1,0],\n",
        "               [0,0,rate,-1]])\n",
        "b7 = np.array([-150, 100, 50,-200])  # Restricción: entradas menos pagos de la empresa \n",
        "\n",
        "# Solución del problema\n",
        "res5 = linprog(-c7, A_ub=-A7, b_ub=-b7,method='simplex')\n",
        "print(round(pd.DataFrame(res5.x),2)) # Encontramos \"x\" que es lo que se invierte cada semana y el ultimo valor es la saldo final."
      ],
      "metadata": {
        "colab": {
          "base_uri": "https://localhost:8080/"
        },
        "id": "zqm4j_qH2Ehv",
        "outputId": "0c50b833-2512-4ce0-f494-d0a9b5816724"
      },
      "execution_count": 207,
      "outputs": [
        {
          "output_type": "stream",
          "name": "stdout",
          "text": [
            "        0\n",
            "0  150.00\n",
            "1   50.11\n",
            "2    0.14\n",
            "3  200.14\n"
          ]
        }
      ]
    },
    {
      "cell_type": "markdown",
      "source": [
        "A la empresa se le recomienda para la primera semana invertir 150, para la segunda semana ya despues de haber obtenido las ganancias de la semana 1 se recomienda invertir 50.11, para la tercera semana se le recomienda invertir 0.14. En la semana cuatro tendra un saldo de 200.14 lo que quiere decir que gracias a las inversiones que se hicieron tuvo una ganancia estrategica de 0.14. "
      ],
      "metadata": {
        "id": "rfQJ0fXeeYqG"
      }
    },
    {
      "cell_type": "markdown",
      "source": [
        "#Punto 5"
      ],
      "metadata": {
        "id": "8B_6DElaZFcx"
      }
    },
    {
      "cell_type": "code",
      "source": [
        "# Objectivo a maximizar \n",
        "c4 = np.array([0, 0, 0, 5,8,10])            # Maximizar las ganacias por departamento\n",
        "\n",
        "# Restricciones de desigualdad\n",
        "A4 = np.array([[0,  0,  0,  1  ,0  ,0  ],   # Las primeras variables \"X\" son las horas por departamento y las segundas variables \"Y\" son el presupuesto por departamento\n",
        "               [0,  1,  0,  0  ,0  ,0  ],\n",
        "               [0,  0,  1,  0  ,0  ,0  ],\n",
        "               [0,  0,  0,  0  ,1  ,0  ],\n",
        "               [0,  0,  0,  0  ,0  ,1  ]])\n",
        "b4 = np.array([2000, 300, 250,2000,2000])   # Restricción de horas y restricción presupuestal por departamento \n",
        "\n",
        "# Restricciones de igualdad\n",
        "A5 = np.array([[1  , 1  , 1   , 0  ,0  ,0  ],[ 0  ,0  ,0, 1  , 1  , 1  ]]) \n",
        "b5 = np.array([1000,10000])                 # Restricción total de horas y restricción total presupuestal\n",
        "# Solución del problema\n",
        "res3 = linprog(-c4, A_ub=-A4, b_ub=-b4, A_eq=A5, b_eq=b5,method='simplex')\n",
        "print(round(pd.DataFrame(res3.x),2))       \n",
        "res3.fun                                    # Encontramos \"x\" que es lo optimo en horas por departamento y lo optimo en presupuesto por departamento. Luego encontramos \"fun\" que es la ganancia final de la empresa."
      ],
      "metadata": {
        "id": "dGf6fdEmLy-0",
        "colab": {
          "base_uri": "https://localhost:8080/"
        },
        "outputId": "8271eab6-8c85-4e73-a448-f421af2eba41"
      },
      "execution_count": 209,
      "outputs": [
        {
          "output_type": "stream",
          "name": "stdout",
          "text": [
            "        0\n",
            "0   450.0\n",
            "1   300.0\n",
            "2   250.0\n",
            "3  2000.0\n",
            "4  2000.0\n",
            "5  6000.0\n"
          ]
        },
        {
          "output_type": "execute_result",
          "data": {
            "text/plain": [
              "-86000.0"
            ]
          },
          "metadata": {},
          "execution_count": 209
        }
      ]
    },
    {
      "cell_type": "markdown",
      "source": [
        "La empresa, para maximizar sus ganancias, debera distribuir los 10.000 millones y la horas de trabajo en la siguiente forma:  En ventas dejar un presupuesto de 2.000 millones y contar con 450 horas de trabajo. En Marketing dejar un presupuesto de 2.000 millones y contar con 300 horas de trabajo. En Producción dejar un presupuesto de 6.000 millones y contar con 250 horas de trabajo. Al final la empresa tentra una ganancia de 86.000 millones. "
      ],
      "metadata": {
        "id": "pKKUZsw6h-RS"
      }
    },
    {
      "cell_type": "markdown",
      "source": [
        "#Punto 6"
      ],
      "metadata": {
        "id": "oB-KFb5VJaLe"
      }
    },
    {
      "cell_type": "code",
      "source": [
        "import cvxpy as cp\n",
        "warnings.filterwarnings(\"ignore\")\n",
        "# Definimos la matriz de costos de distribución \n",
        "cd = np.array([[4,  5,  6,  8  ,10],\n",
        "               [6,  4,  3,  5  ,8],\n",
        "               [9,  7,  4,  3  ,4]])\n",
        "# Definimos matriz de costos fijos\n",
        "cf = np.array([1000,1000,1000])\n",
        "# Definimos matriz de producción maxima\n",
        "pm = np.array([500,500,500])\n",
        "# Definiomos la variable de desición, si funciona o no la fabrica (es una variable de (si,no))\n",
        "vd = cp.Variable(3,boolean=True)\n",
        "# Definimos la matriz de restricción de demanda de cada fabrica \n",
        "rd = np.array([80,270,250,160,180])\n",
        "# Definimos la matriz de incognitas \n",
        "x = cp.Variable((3,5), nonneg=True)\n",
        "# Creamos las restricciones \n",
        "restricciones = [] \n",
        "for i in range(3): restricciones.append(cp.sum(x[i,:]) <= pm[i]*vd[i])\n",
        "for j in range(5): restricciones.append(cp.sum(x[:,j]) >= rd[j])\n",
        "# Creamos la función objetivo \n",
        "objetivo = cp.Minimize(cp.sum(cp.multiply(cf,vd))+cp.sum(cp.multiply(cd,x)))\n",
        "# Solución problema\n",
        "Problema = cp.Problem(objetivo, restricciones)\n",
        "Solucion = Problema.solve()\n",
        "Solucion"
      ],
      "metadata": {
        "colab": {
          "base_uri": "https://localhost:8080/"
        },
        "id": "2X3k9zan64mh",
        "outputId": "fb0155bf-b7b2-45c4-a085-55235443fc8f"
      },
      "execution_count": 179,
      "outputs": [
        {
          "output_type": "execute_result",
          "data": {
            "text/plain": [
              "5610.0"
            ]
          },
          "metadata": {},
          "execution_count": 179
        }
      ]
    },
    {
      "cell_type": "code",
      "source": [
        "x.value"
      ],
      "metadata": {
        "colab": {
          "base_uri": "https://localhost:8080/"
        },
        "id": "y-l969MQSMXt",
        "outputId": "efd721f3-ae2b-410e-87cb-36e1412bd00b"
      },
      "execution_count": 180,
      "outputs": [
        {
          "output_type": "execute_result",
          "data": {
            "text/plain": [
              "array([[  0.,  -0.,  -0.,  -0.,  -0.],\n",
              "       [ 80., 270., 150.,  -0.,  -0.],\n",
              "       [ -0.,  -0., 100., 160., 180.]])"
            ]
          },
          "metadata": {},
          "execution_count": 180
        }
      ]
    },
    {
      "cell_type": "markdown",
      "source": [
        "La planta que se serrará, con el objetivo de minimizar costos y solo usar lo necesario para cubrir la demanda, es la planta 1. \n",
        "\n",
        "La planta dos cubrira la demanda de 80 unidades del punto 1, 270 unidades del punto 2 y 150 unidades del punto 3. La planta tres cubrira la demanda de 100 unidades del punto 3, 160 unidades del punto 4 y 180 unidades del punto 5. Con todo esto, la empresa incurrira en un costo minimo de 5610.   "
      ],
      "metadata": {
        "id": "_Fn4K8Rck3J9"
      }
    }
  ]
}